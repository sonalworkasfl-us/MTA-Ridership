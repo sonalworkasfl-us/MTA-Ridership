{
  "nbformat": 4,
  "nbformat_minor": 0,
  "metadata": {
    "colab": {
      "provenance": [],
      "toc_visible": true
    },
    "kernelspec": {
      "name": "python3",
      "display_name": "Python 3"
    },
    "language_info": {
      "name": "python"
    }
  },
  "cells": [
    {
      "cell_type": "code",
      "execution_count": null,
      "metadata": {
        "id": "RqkuS91ZMUgM"
      },
      "outputs": [],
      "source": [
        "import pandas as pd # for data manipulation and analysis\n",
        "import numpy as np\n",
        "\n",
        "import seaborn as sns # for data visualization\n",
        "import matplotlib.pyplot as plt\n",
        "import plotly.express as px\n",
        "\n",
        "# import dash # for building interactive visualizations\n",
        "# from dash import dcc, html, Input, Output\n",
        "\n",
        "import geopandas as gpd # for geographic data manipulation\n",
        "from shapely.geometry import Point, Polygon\n",
        "\n",
        "from sklearn.model_selection import train_test_split # for machine learning\n",
        "from sklearn.ensemble import RandomForestRegressor\n",
        "from sklearn.metrics import mean_absolute_error, mean_squared_error, r2_score"
      ]
    },
    {
      "cell_type": "markdown",
      "source": [
        "## 1. Data Preparation"
      ],
      "metadata": {
        "id": "SaA32BQRTJQ2"
      }
    },
    {
      "cell_type": "code",
      "source": [
        "file_path_1 = '/content/drive/MyDrive/CSCI 636/MTA_Subway_Hourly_Ridership__Beginning_February_2022.csv'\n",
        "file_path_2 = '/content/drive/MyDrive/CSCI 636/MTA_Subway_Hourly_Ridership__Beginning_February_2022_pt3.csv'\n",
        "file_path_3 = '/content/drive/MyDrive/CSCI 636/MTA_Subway_Hourly_Ridership__Beginning_February_2022_pt4.csv'\n",
        "file_path_4 = '/content/drive/MyDrive/CSCI 636/MTA_Subway_Hourly_Ridership__Beginning_February_2022_pt2.csv'\n",
        "\n",
        "file_paths = [file_path_1, file_path_2, file_path_3, file_path_4]\n",
        "\n",
        "# Read each file into a separate DataFrame\n",
        "data_frames = [pd.read_csv(file_path, low_memory=False) for file_path in file_paths]\n",
        "\n",
        "# Concatenate the DataFrames\n",
        "df = pd.concat(data_frames)"
      ],
      "metadata": {
        "id": "AgcQvpbfNNoN"
      },
      "execution_count": null,
      "outputs": []
    },
    {
      "cell_type": "markdown",
      "source": [
        "## 2. Data Cleaning"
      ],
      "metadata": {
        "id": "9SNWTdPyTQS_"
      }
    },
    {
      "cell_type": "code",
      "source": [
        "# change transit_timestamp to datetime object\n",
        "df['transit_timestamp'] = pd.to_datetime(df['transit_timestamp'])"
      ],
      "metadata": {
        "id": "vDCS2kDoOdNn"
      },
      "execution_count": null,
      "outputs": []
    },
    {
      "cell_type": "code",
      "source": [
        "#Make a copy before slicing the dataset\n",
        "# original_df = df.copy()"
      ],
      "metadata": {
        "id": "5ZUSQr3GptrI"
      },
      "execution_count": null,
      "outputs": []
    },
    {
      "cell_type": "code",
      "source": [
        "# check the earliest and latest time of the data\n",
        "print(df['transit_timestamp'].min())\n",
        "print(df['transit_timestamp'].max())"
      ],
      "metadata": {
        "colab": {
          "base_uri": "https://localhost:8080/"
        },
        "id": "OAnwK3JQPwfV",
        "outputId": "53b8063c-0685-4b09-bbf7-e8476257930b"
      },
      "execution_count": null,
      "outputs": [
        {
          "output_type": "stream",
          "name": "stdout",
          "text": [
            "2022-02-01 00:00:00\n",
            "2024-02-29 23:00:00\n"
          ]
        }
      ]
    },
    {
      "cell_type": "markdown",
      "source": [
        "Since the data begins on February 1st 2022, we will use the data from Feb 2022 → Feb 2024.\n",
        "\n",
        "This will allow us to have an even distribution and outliers such as holiday will only occur once in the data."
      ],
      "metadata": {
        "id": "Spy1qCsUSrGp"
      }
    },
    {
      "cell_type": "code",
      "source": [
        "# prompt: check which column contain NaN number. remove column with NaN values\n",
        "\n",
        "# Check for NaN values in each column\n",
        "df.isnull().sum()\n",
        "# Drop columns with NaN values\n",
        "df.dropna(axis=1, inplace=True)"
      ],
      "metadata": {
        "id": "KmJcuJAnkvDd"
      },
      "execution_count": null,
      "outputs": []
    },
    {
      "cell_type": "code",
      "source": [
        "# Check is there is any NaN values\n",
        "df.isnull().sum()"
      ],
      "metadata": {
        "colab": {
          "base_uri": "https://localhost:8080/"
        },
        "id": "M1kSBNj_kvF9",
        "outputId": "600b8804-cf36-4665-8d84-828263fce67a"
      },
      "execution_count": null,
      "outputs": [
        {
          "output_type": "execute_result",
          "data": {
            "text/plain": [
              "transit_timestamp     0\n",
              "station_complex_id    0\n",
              "station_complex       0\n",
              "borough               0\n",
              "payment_method        0\n",
              "ridership             0\n",
              "transfers             0\n",
              "latitude              0\n",
              "longitude             0\n",
              "Georeference          0\n",
              "dtype: int64"
            ]
          },
          "metadata": {},
          "execution_count": 7
        }
      ]
    },
    {
      "cell_type": "code",
      "source": [
        "df.head()"
      ],
      "metadata": {
        "colab": {
          "base_uri": "https://localhost:8080/",
          "height": 293
        },
        "id": "KQb6rkv-kvIX",
        "outputId": "8c83d631-2ade-4c2d-9a66-b0d7f008619d"
      },
      "execution_count": null,
      "outputs": [
        {
          "output_type": "execute_result",
          "data": {
            "text/plain": [
              "    transit_timestamp station_complex_id station_complex borough  \\\n",
              "0 2022-06-24 04:00:00               H007        1 Av (L)       M   \n",
              "1 2022-07-05 22:00:00               H007        1 Av (L)       M   \n",
              "2 2022-08-30 03:00:00               H007        1 Av (L)       M   \n",
              "3 2022-11-05 03:00:00               H007        1 Av (L)       M   \n",
              "4 2023-01-19 04:00:00               H007        1 Av (L)       M   \n",
              "\n",
              "  payment_method  ridership  transfers   latitude  longitude  \\\n",
              "0           omny         19          0  40.730953 -73.981628   \n",
              "1           omny        229          0  40.730953 -73.981628   \n",
              "2           omny          5          0  40.730953 -73.981628   \n",
              "3           omny         78          0  40.730953 -73.981628   \n",
              "4           omny          5          0  40.730953 -73.981628   \n",
              "\n",
              "                                    Georeference  \n",
              "0  POINT (-73.98162841796875 40.730953216552734)  \n",
              "1  POINT (-73.98162841796875 40.730953216552734)  \n",
              "2  POINT (-73.98162841796875 40.730953216552734)  \n",
              "3  POINT (-73.98162841796875 40.730953216552734)  \n",
              "4  POINT (-73.98162841796875 40.730953216552734)  "
            ],
            "text/html": [
              "\n",
              "  <div id=\"df-eaa76110-0e56-48b6-9dbb-a7fb1e5787a6\" class=\"colab-df-container\">\n",
              "    <div>\n",
              "<style scoped>\n",
              "    .dataframe tbody tr th:only-of-type {\n",
              "        vertical-align: middle;\n",
              "    }\n",
              "\n",
              "    .dataframe tbody tr th {\n",
              "        vertical-align: top;\n",
              "    }\n",
              "\n",
              "    .dataframe thead th {\n",
              "        text-align: right;\n",
              "    }\n",
              "</style>\n",
              "<table border=\"1\" class=\"dataframe\">\n",
              "  <thead>\n",
              "    <tr style=\"text-align: right;\">\n",
              "      <th></th>\n",
              "      <th>transit_timestamp</th>\n",
              "      <th>station_complex_id</th>\n",
              "      <th>station_complex</th>\n",
              "      <th>borough</th>\n",
              "      <th>payment_method</th>\n",
              "      <th>ridership</th>\n",
              "      <th>transfers</th>\n",
              "      <th>latitude</th>\n",
              "      <th>longitude</th>\n",
              "      <th>Georeference</th>\n",
              "    </tr>\n",
              "  </thead>\n",
              "  <tbody>\n",
              "    <tr>\n",
              "      <th>0</th>\n",
              "      <td>2022-06-24 04:00:00</td>\n",
              "      <td>H007</td>\n",
              "      <td>1 Av (L)</td>\n",
              "      <td>M</td>\n",
              "      <td>omny</td>\n",
              "      <td>19</td>\n",
              "      <td>0</td>\n",
              "      <td>40.730953</td>\n",
              "      <td>-73.981628</td>\n",
              "      <td>POINT (-73.98162841796875 40.730953216552734)</td>\n",
              "    </tr>\n",
              "    <tr>\n",
              "      <th>1</th>\n",
              "      <td>2022-07-05 22:00:00</td>\n",
              "      <td>H007</td>\n",
              "      <td>1 Av (L)</td>\n",
              "      <td>M</td>\n",
              "      <td>omny</td>\n",
              "      <td>229</td>\n",
              "      <td>0</td>\n",
              "      <td>40.730953</td>\n",
              "      <td>-73.981628</td>\n",
              "      <td>POINT (-73.98162841796875 40.730953216552734)</td>\n",
              "    </tr>\n",
              "    <tr>\n",
              "      <th>2</th>\n",
              "      <td>2022-08-30 03:00:00</td>\n",
              "      <td>H007</td>\n",
              "      <td>1 Av (L)</td>\n",
              "      <td>M</td>\n",
              "      <td>omny</td>\n",
              "      <td>5</td>\n",
              "      <td>0</td>\n",
              "      <td>40.730953</td>\n",
              "      <td>-73.981628</td>\n",
              "      <td>POINT (-73.98162841796875 40.730953216552734)</td>\n",
              "    </tr>\n",
              "    <tr>\n",
              "      <th>3</th>\n",
              "      <td>2022-11-05 03:00:00</td>\n",
              "      <td>H007</td>\n",
              "      <td>1 Av (L)</td>\n",
              "      <td>M</td>\n",
              "      <td>omny</td>\n",
              "      <td>78</td>\n",
              "      <td>0</td>\n",
              "      <td>40.730953</td>\n",
              "      <td>-73.981628</td>\n",
              "      <td>POINT (-73.98162841796875 40.730953216552734)</td>\n",
              "    </tr>\n",
              "    <tr>\n",
              "      <th>4</th>\n",
              "      <td>2023-01-19 04:00:00</td>\n",
              "      <td>H007</td>\n",
              "      <td>1 Av (L)</td>\n",
              "      <td>M</td>\n",
              "      <td>omny</td>\n",
              "      <td>5</td>\n",
              "      <td>0</td>\n",
              "      <td>40.730953</td>\n",
              "      <td>-73.981628</td>\n",
              "      <td>POINT (-73.98162841796875 40.730953216552734)</td>\n",
              "    </tr>\n",
              "  </tbody>\n",
              "</table>\n",
              "</div>\n",
              "    <div class=\"colab-df-buttons\">\n",
              "\n",
              "  <div class=\"colab-df-container\">\n",
              "    <button class=\"colab-df-convert\" onclick=\"convertToInteractive('df-eaa76110-0e56-48b6-9dbb-a7fb1e5787a6')\"\n",
              "            title=\"Convert this dataframe to an interactive table.\"\n",
              "            style=\"display:none;\">\n",
              "\n",
              "  <svg xmlns=\"http://www.w3.org/2000/svg\" height=\"24px\" viewBox=\"0 -960 960 960\">\n",
              "    <path d=\"M120-120v-720h720v720H120Zm60-500h600v-160H180v160Zm220 220h160v-160H400v160Zm0 220h160v-160H400v160ZM180-400h160v-160H180v160Zm440 0h160v-160H620v160ZM180-180h160v-160H180v160Zm440 0h160v-160H620v160Z\"/>\n",
              "  </svg>\n",
              "    </button>\n",
              "\n",
              "  <style>\n",
              "    .colab-df-container {\n",
              "      display:flex;\n",
              "      gap: 12px;\n",
              "    }\n",
              "\n",
              "    .colab-df-convert {\n",
              "      background-color: #E8F0FE;\n",
              "      border: none;\n",
              "      border-radius: 50%;\n",
              "      cursor: pointer;\n",
              "      display: none;\n",
              "      fill: #1967D2;\n",
              "      height: 32px;\n",
              "      padding: 0 0 0 0;\n",
              "      width: 32px;\n",
              "    }\n",
              "\n",
              "    .colab-df-convert:hover {\n",
              "      background-color: #E2EBFA;\n",
              "      box-shadow: 0px 1px 2px rgba(60, 64, 67, 0.3), 0px 1px 3px 1px rgba(60, 64, 67, 0.15);\n",
              "      fill: #174EA6;\n",
              "    }\n",
              "\n",
              "    .colab-df-buttons div {\n",
              "      margin-bottom: 4px;\n",
              "    }\n",
              "\n",
              "    [theme=dark] .colab-df-convert {\n",
              "      background-color: #3B4455;\n",
              "      fill: #D2E3FC;\n",
              "    }\n",
              "\n",
              "    [theme=dark] .colab-df-convert:hover {\n",
              "      background-color: #434B5C;\n",
              "      box-shadow: 0px 1px 3px 1px rgba(0, 0, 0, 0.15);\n",
              "      filter: drop-shadow(0px 1px 2px rgba(0, 0, 0, 0.3));\n",
              "      fill: #FFFFFF;\n",
              "    }\n",
              "  </style>\n",
              "\n",
              "    <script>\n",
              "      const buttonEl =\n",
              "        document.querySelector('#df-eaa76110-0e56-48b6-9dbb-a7fb1e5787a6 button.colab-df-convert');\n",
              "      buttonEl.style.display =\n",
              "        google.colab.kernel.accessAllowed ? 'block' : 'none';\n",
              "\n",
              "      async function convertToInteractive(key) {\n",
              "        const element = document.querySelector('#df-eaa76110-0e56-48b6-9dbb-a7fb1e5787a6');\n",
              "        const dataTable =\n",
              "          await google.colab.kernel.invokeFunction('convertToInteractive',\n",
              "                                                    [key], {});\n",
              "        if (!dataTable) return;\n",
              "\n",
              "        const docLinkHtml = 'Like what you see? Visit the ' +\n",
              "          '<a target=\"_blank\" href=https://colab.research.google.com/notebooks/data_table.ipynb>data table notebook</a>'\n",
              "          + ' to learn more about interactive tables.';\n",
              "        element.innerHTML = '';\n",
              "        dataTable['output_type'] = 'display_data';\n",
              "        await google.colab.output.renderOutput(dataTable, element);\n",
              "        const docLink = document.createElement('div');\n",
              "        docLink.innerHTML = docLinkHtml;\n",
              "        element.appendChild(docLink);\n",
              "      }\n",
              "    </script>\n",
              "  </div>\n",
              "\n",
              "\n",
              "<div id=\"df-95b449ef-6b1f-4fd1-81a3-c6ac92569c46\">\n",
              "  <button class=\"colab-df-quickchart\" onclick=\"quickchart('df-95b449ef-6b1f-4fd1-81a3-c6ac92569c46')\"\n",
              "            title=\"Suggest charts\"\n",
              "            style=\"display:none;\">\n",
              "\n",
              "<svg xmlns=\"http://www.w3.org/2000/svg\" height=\"24px\"viewBox=\"0 0 24 24\"\n",
              "     width=\"24px\">\n",
              "    <g>\n",
              "        <path d=\"M19 3H5c-1.1 0-2 .9-2 2v14c0 1.1.9 2 2 2h14c1.1 0 2-.9 2-2V5c0-1.1-.9-2-2-2zM9 17H7v-7h2v7zm4 0h-2V7h2v10zm4 0h-2v-4h2v4z\"/>\n",
              "    </g>\n",
              "</svg>\n",
              "  </button>\n",
              "\n",
              "<style>\n",
              "  .colab-df-quickchart {\n",
              "      --bg-color: #E8F0FE;\n",
              "      --fill-color: #1967D2;\n",
              "      --hover-bg-color: #E2EBFA;\n",
              "      --hover-fill-color: #174EA6;\n",
              "      --disabled-fill-color: #AAA;\n",
              "      --disabled-bg-color: #DDD;\n",
              "  }\n",
              "\n",
              "  [theme=dark] .colab-df-quickchart {\n",
              "      --bg-color: #3B4455;\n",
              "      --fill-color: #D2E3FC;\n",
              "      --hover-bg-color: #434B5C;\n",
              "      --hover-fill-color: #FFFFFF;\n",
              "      --disabled-bg-color: #3B4455;\n",
              "      --disabled-fill-color: #666;\n",
              "  }\n",
              "\n",
              "  .colab-df-quickchart {\n",
              "    background-color: var(--bg-color);\n",
              "    border: none;\n",
              "    border-radius: 50%;\n",
              "    cursor: pointer;\n",
              "    display: none;\n",
              "    fill: var(--fill-color);\n",
              "    height: 32px;\n",
              "    padding: 0;\n",
              "    width: 32px;\n",
              "  }\n",
              "\n",
              "  .colab-df-quickchart:hover {\n",
              "    background-color: var(--hover-bg-color);\n",
              "    box-shadow: 0 1px 2px rgba(60, 64, 67, 0.3), 0 1px 3px 1px rgba(60, 64, 67, 0.15);\n",
              "    fill: var(--button-hover-fill-color);\n",
              "  }\n",
              "\n",
              "  .colab-df-quickchart-complete:disabled,\n",
              "  .colab-df-quickchart-complete:disabled:hover {\n",
              "    background-color: var(--disabled-bg-color);\n",
              "    fill: var(--disabled-fill-color);\n",
              "    box-shadow: none;\n",
              "  }\n",
              "\n",
              "  .colab-df-spinner {\n",
              "    border: 2px solid var(--fill-color);\n",
              "    border-color: transparent;\n",
              "    border-bottom-color: var(--fill-color);\n",
              "    animation:\n",
              "      spin 1s steps(1) infinite;\n",
              "  }\n",
              "\n",
              "  @keyframes spin {\n",
              "    0% {\n",
              "      border-color: transparent;\n",
              "      border-bottom-color: var(--fill-color);\n",
              "      border-left-color: var(--fill-color);\n",
              "    }\n",
              "    20% {\n",
              "      border-color: transparent;\n",
              "      border-left-color: var(--fill-color);\n",
              "      border-top-color: var(--fill-color);\n",
              "    }\n",
              "    30% {\n",
              "      border-color: transparent;\n",
              "      border-left-color: var(--fill-color);\n",
              "      border-top-color: var(--fill-color);\n",
              "      border-right-color: var(--fill-color);\n",
              "    }\n",
              "    40% {\n",
              "      border-color: transparent;\n",
              "      border-right-color: var(--fill-color);\n",
              "      border-top-color: var(--fill-color);\n",
              "    }\n",
              "    60% {\n",
              "      border-color: transparent;\n",
              "      border-right-color: var(--fill-color);\n",
              "    }\n",
              "    80% {\n",
              "      border-color: transparent;\n",
              "      border-right-color: var(--fill-color);\n",
              "      border-bottom-color: var(--fill-color);\n",
              "    }\n",
              "    90% {\n",
              "      border-color: transparent;\n",
              "      border-bottom-color: var(--fill-color);\n",
              "    }\n",
              "  }\n",
              "</style>\n",
              "\n",
              "  <script>\n",
              "    async function quickchart(key) {\n",
              "      const quickchartButtonEl =\n",
              "        document.querySelector('#' + key + ' button');\n",
              "      quickchartButtonEl.disabled = true;  // To prevent multiple clicks.\n",
              "      quickchartButtonEl.classList.add('colab-df-spinner');\n",
              "      try {\n",
              "        const charts = await google.colab.kernel.invokeFunction(\n",
              "            'suggestCharts', [key], {});\n",
              "      } catch (error) {\n",
              "        console.error('Error during call to suggestCharts:', error);\n",
              "      }\n",
              "      quickchartButtonEl.classList.remove('colab-df-spinner');\n",
              "      quickchartButtonEl.classList.add('colab-df-quickchart-complete');\n",
              "    }\n",
              "    (() => {\n",
              "      let quickchartButtonEl =\n",
              "        document.querySelector('#df-95b449ef-6b1f-4fd1-81a3-c6ac92569c46 button');\n",
              "      quickchartButtonEl.style.display =\n",
              "        google.colab.kernel.accessAllowed ? 'block' : 'none';\n",
              "    })();\n",
              "  </script>\n",
              "</div>\n",
              "\n",
              "    </div>\n",
              "  </div>\n"
            ],
            "application/vnd.google.colaboratory.intrinsic+json": {
              "type": "dataframe",
              "variable_name": "df"
            }
          },
          "metadata": {},
          "execution_count": 8
        }
      ]
    },
    {
      "cell_type": "code",
      "source": [
        "df.info()"
      ],
      "metadata": {
        "colab": {
          "base_uri": "https://localhost:8080/"
        },
        "id": "Dv_IDNq_kvK6",
        "outputId": "79df46be-4b51-40d0-b74d-109bf9f9a624"
      },
      "execution_count": null,
      "outputs": [
        {
          "output_type": "stream",
          "name": "stdout",
          "text": [
            "<class 'pandas.core.frame.DataFrame'>\n",
            "Index: 22546693 entries, 0 to 7417775\n",
            "Data columns (total 10 columns):\n",
            " #   Column              Dtype         \n",
            "---  ------              -----         \n",
            " 0   transit_timestamp   datetime64[ns]\n",
            " 1   station_complex_id  object        \n",
            " 2   station_complex     object        \n",
            " 3   borough             object        \n",
            " 4   payment_method      object        \n",
            " 5   ridership           int64         \n",
            " 6   transfers           int64         \n",
            " 7   latitude            float64       \n",
            " 8   longitude           float64       \n",
            " 9   Georeference        object        \n",
            "dtypes: datetime64[ns](1), float64(2), int64(2), object(5)\n",
            "memory usage: 1.8+ GB\n"
          ]
        }
      ]
    },
    {
      "cell_type": "code",
      "source": [
        "df.shape"
      ],
      "metadata": {
        "colab": {
          "base_uri": "https://localhost:8080/"
        },
        "id": "oFUJnkIBkvND",
        "outputId": "f433ff03-4b18-43cf-f4f8-513750072a92"
      },
      "execution_count": null,
      "outputs": [
        {
          "output_type": "execute_result",
          "data": {
            "text/plain": [
              "(22546693, 10)"
            ]
          },
          "metadata": {},
          "execution_count": 10
        }
      ]
    },
    {
      "cell_type": "code",
      "source": [
        "# prompt: save new df to csv file with cleaned data\n",
        "# df.to_csv('/content/drive/MyDrive/CSCI 636/MTA_data_combined.csv')"
      ],
      "metadata": {
        "id": "PWj_knRakvPV"
      },
      "execution_count": null,
      "outputs": []
    },
    {
      "cell_type": "code",
      "source": [
        "# prompt: get unique values of column borough. update value M into Manhattan, Q to Queens, BK to Brooklyn, BX to Bronx, SI to Staten Island\n",
        "\n",
        "df['borough'].replace({'M': 'Manhattan', 'Q': 'Queens', 'BK': 'Brooklyn', 'BX': 'Bronx', 'SI': 'Staten Island'}, inplace=True)\n"
      ],
      "metadata": {
        "id": "wuHDgE-8kvTY"
      },
      "execution_count": null,
      "outputs": []
    },
    {
      "cell_type": "code",
      "source": [
        "# prompt: get unique values of column borough.\n",
        "unique_boroughs = df['borough'].unique()\n",
        "print(unique_boroughs)"
      ],
      "metadata": {
        "colab": {
          "base_uri": "https://localhost:8080/"
        },
        "id": "Pap87zmbrAXc",
        "outputId": "90b5f26a-6a9a-4c6f-dfeb-ce817a041745"
      },
      "execution_count": null,
      "outputs": [
        {
          "output_type": "stream",
          "name": "stdout",
          "text": [
            "['Manhattan' 'Queens' 'Brooklyn' 'Bronx' 'Staten Island']\n"
          ]
        }
      ]
    },
    {
      "cell_type": "code",
      "source": [
        "df.head()"
      ],
      "metadata": {
        "colab": {
          "base_uri": "https://localhost:8080/",
          "height": 293
        },
        "id": "zjDthSZQrAao",
        "outputId": "5f9cacf1-5b18-4af1-a529-21f600417fe5"
      },
      "execution_count": null,
      "outputs": [
        {
          "output_type": "execute_result",
          "data": {
            "text/plain": [
              "    transit_timestamp station_complex_id station_complex    borough  \\\n",
              "0 2022-06-24 04:00:00               H007        1 Av (L)  Manhattan   \n",
              "1 2022-07-05 22:00:00               H007        1 Av (L)  Manhattan   \n",
              "2 2022-08-30 03:00:00               H007        1 Av (L)  Manhattan   \n",
              "3 2022-11-05 03:00:00               H007        1 Av (L)  Manhattan   \n",
              "4 2023-01-19 04:00:00               H007        1 Av (L)  Manhattan   \n",
              "\n",
              "  payment_method  ridership  transfers   latitude  longitude  \\\n",
              "0           omny         19          0  40.730953 -73.981628   \n",
              "1           omny        229          0  40.730953 -73.981628   \n",
              "2           omny          5          0  40.730953 -73.981628   \n",
              "3           omny         78          0  40.730953 -73.981628   \n",
              "4           omny          5          0  40.730953 -73.981628   \n",
              "\n",
              "                                    Georeference  \n",
              "0  POINT (-73.98162841796875 40.730953216552734)  \n",
              "1  POINT (-73.98162841796875 40.730953216552734)  \n",
              "2  POINT (-73.98162841796875 40.730953216552734)  \n",
              "3  POINT (-73.98162841796875 40.730953216552734)  \n",
              "4  POINT (-73.98162841796875 40.730953216552734)  "
            ],
            "text/html": [
              "\n",
              "  <div id=\"df-844ad530-913b-4aad-8994-556219d155f0\" class=\"colab-df-container\">\n",
              "    <div>\n",
              "<style scoped>\n",
              "    .dataframe tbody tr th:only-of-type {\n",
              "        vertical-align: middle;\n",
              "    }\n",
              "\n",
              "    .dataframe tbody tr th {\n",
              "        vertical-align: top;\n",
              "    }\n",
              "\n",
              "    .dataframe thead th {\n",
              "        text-align: right;\n",
              "    }\n",
              "</style>\n",
              "<table border=\"1\" class=\"dataframe\">\n",
              "  <thead>\n",
              "    <tr style=\"text-align: right;\">\n",
              "      <th></th>\n",
              "      <th>transit_timestamp</th>\n",
              "      <th>station_complex_id</th>\n",
              "      <th>station_complex</th>\n",
              "      <th>borough</th>\n",
              "      <th>payment_method</th>\n",
              "      <th>ridership</th>\n",
              "      <th>transfers</th>\n",
              "      <th>latitude</th>\n",
              "      <th>longitude</th>\n",
              "      <th>Georeference</th>\n",
              "    </tr>\n",
              "  </thead>\n",
              "  <tbody>\n",
              "    <tr>\n",
              "      <th>0</th>\n",
              "      <td>2022-06-24 04:00:00</td>\n",
              "      <td>H007</td>\n",
              "      <td>1 Av (L)</td>\n",
              "      <td>Manhattan</td>\n",
              "      <td>omny</td>\n",
              "      <td>19</td>\n",
              "      <td>0</td>\n",
              "      <td>40.730953</td>\n",
              "      <td>-73.981628</td>\n",
              "      <td>POINT (-73.98162841796875 40.730953216552734)</td>\n",
              "    </tr>\n",
              "    <tr>\n",
              "      <th>1</th>\n",
              "      <td>2022-07-05 22:00:00</td>\n",
              "      <td>H007</td>\n",
              "      <td>1 Av (L)</td>\n",
              "      <td>Manhattan</td>\n",
              "      <td>omny</td>\n",
              "      <td>229</td>\n",
              "      <td>0</td>\n",
              "      <td>40.730953</td>\n",
              "      <td>-73.981628</td>\n",
              "      <td>POINT (-73.98162841796875 40.730953216552734)</td>\n",
              "    </tr>\n",
              "    <tr>\n",
              "      <th>2</th>\n",
              "      <td>2022-08-30 03:00:00</td>\n",
              "      <td>H007</td>\n",
              "      <td>1 Av (L)</td>\n",
              "      <td>Manhattan</td>\n",
              "      <td>omny</td>\n",
              "      <td>5</td>\n",
              "      <td>0</td>\n",
              "      <td>40.730953</td>\n",
              "      <td>-73.981628</td>\n",
              "      <td>POINT (-73.98162841796875 40.730953216552734)</td>\n",
              "    </tr>\n",
              "    <tr>\n",
              "      <th>3</th>\n",
              "      <td>2022-11-05 03:00:00</td>\n",
              "      <td>H007</td>\n",
              "      <td>1 Av (L)</td>\n",
              "      <td>Manhattan</td>\n",
              "      <td>omny</td>\n",
              "      <td>78</td>\n",
              "      <td>0</td>\n",
              "      <td>40.730953</td>\n",
              "      <td>-73.981628</td>\n",
              "      <td>POINT (-73.98162841796875 40.730953216552734)</td>\n",
              "    </tr>\n",
              "    <tr>\n",
              "      <th>4</th>\n",
              "      <td>2023-01-19 04:00:00</td>\n",
              "      <td>H007</td>\n",
              "      <td>1 Av (L)</td>\n",
              "      <td>Manhattan</td>\n",
              "      <td>omny</td>\n",
              "      <td>5</td>\n",
              "      <td>0</td>\n",
              "      <td>40.730953</td>\n",
              "      <td>-73.981628</td>\n",
              "      <td>POINT (-73.98162841796875 40.730953216552734)</td>\n",
              "    </tr>\n",
              "  </tbody>\n",
              "</table>\n",
              "</div>\n",
              "    <div class=\"colab-df-buttons\">\n",
              "\n",
              "  <div class=\"colab-df-container\">\n",
              "    <button class=\"colab-df-convert\" onclick=\"convertToInteractive('df-844ad530-913b-4aad-8994-556219d155f0')\"\n",
              "            title=\"Convert this dataframe to an interactive table.\"\n",
              "            style=\"display:none;\">\n",
              "\n",
              "  <svg xmlns=\"http://www.w3.org/2000/svg\" height=\"24px\" viewBox=\"0 -960 960 960\">\n",
              "    <path d=\"M120-120v-720h720v720H120Zm60-500h600v-160H180v160Zm220 220h160v-160H400v160Zm0 220h160v-160H400v160ZM180-400h160v-160H180v160Zm440 0h160v-160H620v160ZM180-180h160v-160H180v160Zm440 0h160v-160H620v160Z\"/>\n",
              "  </svg>\n",
              "    </button>\n",
              "\n",
              "  <style>\n",
              "    .colab-df-container {\n",
              "      display:flex;\n",
              "      gap: 12px;\n",
              "    }\n",
              "\n",
              "    .colab-df-convert {\n",
              "      background-color: #E8F0FE;\n",
              "      border: none;\n",
              "      border-radius: 50%;\n",
              "      cursor: pointer;\n",
              "      display: none;\n",
              "      fill: #1967D2;\n",
              "      height: 32px;\n",
              "      padding: 0 0 0 0;\n",
              "      width: 32px;\n",
              "    }\n",
              "\n",
              "    .colab-df-convert:hover {\n",
              "      background-color: #E2EBFA;\n",
              "      box-shadow: 0px 1px 2px rgba(60, 64, 67, 0.3), 0px 1px 3px 1px rgba(60, 64, 67, 0.15);\n",
              "      fill: #174EA6;\n",
              "    }\n",
              "\n",
              "    .colab-df-buttons div {\n",
              "      margin-bottom: 4px;\n",
              "    }\n",
              "\n",
              "    [theme=dark] .colab-df-convert {\n",
              "      background-color: #3B4455;\n",
              "      fill: #D2E3FC;\n",
              "    }\n",
              "\n",
              "    [theme=dark] .colab-df-convert:hover {\n",
              "      background-color: #434B5C;\n",
              "      box-shadow: 0px 1px 3px 1px rgba(0, 0, 0, 0.15);\n",
              "      filter: drop-shadow(0px 1px 2px rgba(0, 0, 0, 0.3));\n",
              "      fill: #FFFFFF;\n",
              "    }\n",
              "  </style>\n",
              "\n",
              "    <script>\n",
              "      const buttonEl =\n",
              "        document.querySelector('#df-844ad530-913b-4aad-8994-556219d155f0 button.colab-df-convert');\n",
              "      buttonEl.style.display =\n",
              "        google.colab.kernel.accessAllowed ? 'block' : 'none';\n",
              "\n",
              "      async function convertToInteractive(key) {\n",
              "        const element = document.querySelector('#df-844ad530-913b-4aad-8994-556219d155f0');\n",
              "        const dataTable =\n",
              "          await google.colab.kernel.invokeFunction('convertToInteractive',\n",
              "                                                    [key], {});\n",
              "        if (!dataTable) return;\n",
              "\n",
              "        const docLinkHtml = 'Like what you see? Visit the ' +\n",
              "          '<a target=\"_blank\" href=https://colab.research.google.com/notebooks/data_table.ipynb>data table notebook</a>'\n",
              "          + ' to learn more about interactive tables.';\n",
              "        element.innerHTML = '';\n",
              "        dataTable['output_type'] = 'display_data';\n",
              "        await google.colab.output.renderOutput(dataTable, element);\n",
              "        const docLink = document.createElement('div');\n",
              "        docLink.innerHTML = docLinkHtml;\n",
              "        element.appendChild(docLink);\n",
              "      }\n",
              "    </script>\n",
              "  </div>\n",
              "\n",
              "\n",
              "<div id=\"df-694b010a-c1fe-4c9f-b55d-b0f8ae0aa357\">\n",
              "  <button class=\"colab-df-quickchart\" onclick=\"quickchart('df-694b010a-c1fe-4c9f-b55d-b0f8ae0aa357')\"\n",
              "            title=\"Suggest charts\"\n",
              "            style=\"display:none;\">\n",
              "\n",
              "<svg xmlns=\"http://www.w3.org/2000/svg\" height=\"24px\"viewBox=\"0 0 24 24\"\n",
              "     width=\"24px\">\n",
              "    <g>\n",
              "        <path d=\"M19 3H5c-1.1 0-2 .9-2 2v14c0 1.1.9 2 2 2h14c1.1 0 2-.9 2-2V5c0-1.1-.9-2-2-2zM9 17H7v-7h2v7zm4 0h-2V7h2v10zm4 0h-2v-4h2v4z\"/>\n",
              "    </g>\n",
              "</svg>\n",
              "  </button>\n",
              "\n",
              "<style>\n",
              "  .colab-df-quickchart {\n",
              "      --bg-color: #E8F0FE;\n",
              "      --fill-color: #1967D2;\n",
              "      --hover-bg-color: #E2EBFA;\n",
              "      --hover-fill-color: #174EA6;\n",
              "      --disabled-fill-color: #AAA;\n",
              "      --disabled-bg-color: #DDD;\n",
              "  }\n",
              "\n",
              "  [theme=dark] .colab-df-quickchart {\n",
              "      --bg-color: #3B4455;\n",
              "      --fill-color: #D2E3FC;\n",
              "      --hover-bg-color: #434B5C;\n",
              "      --hover-fill-color: #FFFFFF;\n",
              "      --disabled-bg-color: #3B4455;\n",
              "      --disabled-fill-color: #666;\n",
              "  }\n",
              "\n",
              "  .colab-df-quickchart {\n",
              "    background-color: var(--bg-color);\n",
              "    border: none;\n",
              "    border-radius: 50%;\n",
              "    cursor: pointer;\n",
              "    display: none;\n",
              "    fill: var(--fill-color);\n",
              "    height: 32px;\n",
              "    padding: 0;\n",
              "    width: 32px;\n",
              "  }\n",
              "\n",
              "  .colab-df-quickchart:hover {\n",
              "    background-color: var(--hover-bg-color);\n",
              "    box-shadow: 0 1px 2px rgba(60, 64, 67, 0.3), 0 1px 3px 1px rgba(60, 64, 67, 0.15);\n",
              "    fill: var(--button-hover-fill-color);\n",
              "  }\n",
              "\n",
              "  .colab-df-quickchart-complete:disabled,\n",
              "  .colab-df-quickchart-complete:disabled:hover {\n",
              "    background-color: var(--disabled-bg-color);\n",
              "    fill: var(--disabled-fill-color);\n",
              "    box-shadow: none;\n",
              "  }\n",
              "\n",
              "  .colab-df-spinner {\n",
              "    border: 2px solid var(--fill-color);\n",
              "    border-color: transparent;\n",
              "    border-bottom-color: var(--fill-color);\n",
              "    animation:\n",
              "      spin 1s steps(1) infinite;\n",
              "  }\n",
              "\n",
              "  @keyframes spin {\n",
              "    0% {\n",
              "      border-color: transparent;\n",
              "      border-bottom-color: var(--fill-color);\n",
              "      border-left-color: var(--fill-color);\n",
              "    }\n",
              "    20% {\n",
              "      border-color: transparent;\n",
              "      border-left-color: var(--fill-color);\n",
              "      border-top-color: var(--fill-color);\n",
              "    }\n",
              "    30% {\n",
              "      border-color: transparent;\n",
              "      border-left-color: var(--fill-color);\n",
              "      border-top-color: var(--fill-color);\n",
              "      border-right-color: var(--fill-color);\n",
              "    }\n",
              "    40% {\n",
              "      border-color: transparent;\n",
              "      border-right-color: var(--fill-color);\n",
              "      border-top-color: var(--fill-color);\n",
              "    }\n",
              "    60% {\n",
              "      border-color: transparent;\n",
              "      border-right-color: var(--fill-color);\n",
              "    }\n",
              "    80% {\n",
              "      border-color: transparent;\n",
              "      border-right-color: var(--fill-color);\n",
              "      border-bottom-color: var(--fill-color);\n",
              "    }\n",
              "    90% {\n",
              "      border-color: transparent;\n",
              "      border-bottom-color: var(--fill-color);\n",
              "    }\n",
              "  }\n",
              "</style>\n",
              "\n",
              "  <script>\n",
              "    async function quickchart(key) {\n",
              "      const quickchartButtonEl =\n",
              "        document.querySelector('#' + key + ' button');\n",
              "      quickchartButtonEl.disabled = true;  // To prevent multiple clicks.\n",
              "      quickchartButtonEl.classList.add('colab-df-spinner');\n",
              "      try {\n",
              "        const charts = await google.colab.kernel.invokeFunction(\n",
              "            'suggestCharts', [key], {});\n",
              "      } catch (error) {\n",
              "        console.error('Error during call to suggestCharts:', error);\n",
              "      }\n",
              "      quickchartButtonEl.classList.remove('colab-df-spinner');\n",
              "      quickchartButtonEl.classList.add('colab-df-quickchart-complete');\n",
              "    }\n",
              "    (() => {\n",
              "      let quickchartButtonEl =\n",
              "        document.querySelector('#df-694b010a-c1fe-4c9f-b55d-b0f8ae0aa357 button');\n",
              "      quickchartButtonEl.style.display =\n",
              "        google.colab.kernel.accessAllowed ? 'block' : 'none';\n",
              "    })();\n",
              "  </script>\n",
              "</div>\n",
              "\n",
              "    </div>\n",
              "  </div>\n"
            ],
            "application/vnd.google.colaboratory.intrinsic+json": {
              "type": "dataframe",
              "variable_name": "df"
            }
          },
          "metadata": {},
          "execution_count": 14
        }
      ]
    },
    {
      "cell_type": "code",
      "source": [
        "# df.to_csv('/content/drive/MyDrive/CSCI 636/MTA_data_combined.csv')"
      ],
      "metadata": {
        "id": "lWitWULErAdt"
      },
      "execution_count": null,
      "outputs": []
    },
    {
      "cell_type": "markdown",
      "source": [
        "Clean the names of the stations by removing the route numbers"
      ],
      "metadata": {
        "id": "ZfPbkX3ESf9K"
      }
    },
    {
      "cell_type": "code",
      "source": [
        "# remove the () and everything in between the () from each station_complex row in the df\n",
        "df['station_complex'] = df['station_complex'].str.replace(r'\\(.*\\)', '', regex=True)"
      ],
      "metadata": {
        "id": "Eu6yrQ4mShOG"
      },
      "execution_count": null,
      "outputs": []
    },
    {
      "cell_type": "code",
      "source": [
        "df.head()"
      ],
      "metadata": {
        "colab": {
          "base_uri": "https://localhost:8080/",
          "height": 293
        },
        "id": "kMqpmSP2S9-Z",
        "outputId": "a4a1fae2-d59b-4864-bd57-4d7f92e5e4f9"
      },
      "execution_count": null,
      "outputs": [
        {
          "output_type": "execute_result",
          "data": {
            "text/plain": [
              "    transit_timestamp station_complex_id station_complex    borough  \\\n",
              "0 2022-06-24 04:00:00               H007           1 Av   Manhattan   \n",
              "1 2022-07-05 22:00:00               H007           1 Av   Manhattan   \n",
              "2 2022-08-30 03:00:00               H007           1 Av   Manhattan   \n",
              "3 2022-11-05 03:00:00               H007           1 Av   Manhattan   \n",
              "4 2023-01-19 04:00:00               H007           1 Av   Manhattan   \n",
              "\n",
              "  payment_method  ridership  transfers   latitude  longitude  \\\n",
              "0           omny         19          0  40.730953 -73.981628   \n",
              "1           omny        229          0  40.730953 -73.981628   \n",
              "2           omny          5          0  40.730953 -73.981628   \n",
              "3           omny         78          0  40.730953 -73.981628   \n",
              "4           omny          5          0  40.730953 -73.981628   \n",
              "\n",
              "                                    Georeference  \n",
              "0  POINT (-73.98162841796875 40.730953216552734)  \n",
              "1  POINT (-73.98162841796875 40.730953216552734)  \n",
              "2  POINT (-73.98162841796875 40.730953216552734)  \n",
              "3  POINT (-73.98162841796875 40.730953216552734)  \n",
              "4  POINT (-73.98162841796875 40.730953216552734)  "
            ],
            "text/html": [
              "\n",
              "  <div id=\"df-2f14edce-d191-4228-90f3-462ddef99c78\" class=\"colab-df-container\">\n",
              "    <div>\n",
              "<style scoped>\n",
              "    .dataframe tbody tr th:only-of-type {\n",
              "        vertical-align: middle;\n",
              "    }\n",
              "\n",
              "    .dataframe tbody tr th {\n",
              "        vertical-align: top;\n",
              "    }\n",
              "\n",
              "    .dataframe thead th {\n",
              "        text-align: right;\n",
              "    }\n",
              "</style>\n",
              "<table border=\"1\" class=\"dataframe\">\n",
              "  <thead>\n",
              "    <tr style=\"text-align: right;\">\n",
              "      <th></th>\n",
              "      <th>transit_timestamp</th>\n",
              "      <th>station_complex_id</th>\n",
              "      <th>station_complex</th>\n",
              "      <th>borough</th>\n",
              "      <th>payment_method</th>\n",
              "      <th>ridership</th>\n",
              "      <th>transfers</th>\n",
              "      <th>latitude</th>\n",
              "      <th>longitude</th>\n",
              "      <th>Georeference</th>\n",
              "    </tr>\n",
              "  </thead>\n",
              "  <tbody>\n",
              "    <tr>\n",
              "      <th>0</th>\n",
              "      <td>2022-06-24 04:00:00</td>\n",
              "      <td>H007</td>\n",
              "      <td>1 Av</td>\n",
              "      <td>Manhattan</td>\n",
              "      <td>omny</td>\n",
              "      <td>19</td>\n",
              "      <td>0</td>\n",
              "      <td>40.730953</td>\n",
              "      <td>-73.981628</td>\n",
              "      <td>POINT (-73.98162841796875 40.730953216552734)</td>\n",
              "    </tr>\n",
              "    <tr>\n",
              "      <th>1</th>\n",
              "      <td>2022-07-05 22:00:00</td>\n",
              "      <td>H007</td>\n",
              "      <td>1 Av</td>\n",
              "      <td>Manhattan</td>\n",
              "      <td>omny</td>\n",
              "      <td>229</td>\n",
              "      <td>0</td>\n",
              "      <td>40.730953</td>\n",
              "      <td>-73.981628</td>\n",
              "      <td>POINT (-73.98162841796875 40.730953216552734)</td>\n",
              "    </tr>\n",
              "    <tr>\n",
              "      <th>2</th>\n",
              "      <td>2022-08-30 03:00:00</td>\n",
              "      <td>H007</td>\n",
              "      <td>1 Av</td>\n",
              "      <td>Manhattan</td>\n",
              "      <td>omny</td>\n",
              "      <td>5</td>\n",
              "      <td>0</td>\n",
              "      <td>40.730953</td>\n",
              "      <td>-73.981628</td>\n",
              "      <td>POINT (-73.98162841796875 40.730953216552734)</td>\n",
              "    </tr>\n",
              "    <tr>\n",
              "      <th>3</th>\n",
              "      <td>2022-11-05 03:00:00</td>\n",
              "      <td>H007</td>\n",
              "      <td>1 Av</td>\n",
              "      <td>Manhattan</td>\n",
              "      <td>omny</td>\n",
              "      <td>78</td>\n",
              "      <td>0</td>\n",
              "      <td>40.730953</td>\n",
              "      <td>-73.981628</td>\n",
              "      <td>POINT (-73.98162841796875 40.730953216552734)</td>\n",
              "    </tr>\n",
              "    <tr>\n",
              "      <th>4</th>\n",
              "      <td>2023-01-19 04:00:00</td>\n",
              "      <td>H007</td>\n",
              "      <td>1 Av</td>\n",
              "      <td>Manhattan</td>\n",
              "      <td>omny</td>\n",
              "      <td>5</td>\n",
              "      <td>0</td>\n",
              "      <td>40.730953</td>\n",
              "      <td>-73.981628</td>\n",
              "      <td>POINT (-73.98162841796875 40.730953216552734)</td>\n",
              "    </tr>\n",
              "  </tbody>\n",
              "</table>\n",
              "</div>\n",
              "    <div class=\"colab-df-buttons\">\n",
              "\n",
              "  <div class=\"colab-df-container\">\n",
              "    <button class=\"colab-df-convert\" onclick=\"convertToInteractive('df-2f14edce-d191-4228-90f3-462ddef99c78')\"\n",
              "            title=\"Convert this dataframe to an interactive table.\"\n",
              "            style=\"display:none;\">\n",
              "\n",
              "  <svg xmlns=\"http://www.w3.org/2000/svg\" height=\"24px\" viewBox=\"0 -960 960 960\">\n",
              "    <path d=\"M120-120v-720h720v720H120Zm60-500h600v-160H180v160Zm220 220h160v-160H400v160Zm0 220h160v-160H400v160ZM180-400h160v-160H180v160Zm440 0h160v-160H620v160ZM180-180h160v-160H180v160Zm440 0h160v-160H620v160Z\"/>\n",
              "  </svg>\n",
              "    </button>\n",
              "\n",
              "  <style>\n",
              "    .colab-df-container {\n",
              "      display:flex;\n",
              "      gap: 12px;\n",
              "    }\n",
              "\n",
              "    .colab-df-convert {\n",
              "      background-color: #E8F0FE;\n",
              "      border: none;\n",
              "      border-radius: 50%;\n",
              "      cursor: pointer;\n",
              "      display: none;\n",
              "      fill: #1967D2;\n",
              "      height: 32px;\n",
              "      padding: 0 0 0 0;\n",
              "      width: 32px;\n",
              "    }\n",
              "\n",
              "    .colab-df-convert:hover {\n",
              "      background-color: #E2EBFA;\n",
              "      box-shadow: 0px 1px 2px rgba(60, 64, 67, 0.3), 0px 1px 3px 1px rgba(60, 64, 67, 0.15);\n",
              "      fill: #174EA6;\n",
              "    }\n",
              "\n",
              "    .colab-df-buttons div {\n",
              "      margin-bottom: 4px;\n",
              "    }\n",
              "\n",
              "    [theme=dark] .colab-df-convert {\n",
              "      background-color: #3B4455;\n",
              "      fill: #D2E3FC;\n",
              "    }\n",
              "\n",
              "    [theme=dark] .colab-df-convert:hover {\n",
              "      background-color: #434B5C;\n",
              "      box-shadow: 0px 1px 3px 1px rgba(0, 0, 0, 0.15);\n",
              "      filter: drop-shadow(0px 1px 2px rgba(0, 0, 0, 0.3));\n",
              "      fill: #FFFFFF;\n",
              "    }\n",
              "  </style>\n",
              "\n",
              "    <script>\n",
              "      const buttonEl =\n",
              "        document.querySelector('#df-2f14edce-d191-4228-90f3-462ddef99c78 button.colab-df-convert');\n",
              "      buttonEl.style.display =\n",
              "        google.colab.kernel.accessAllowed ? 'block' : 'none';\n",
              "\n",
              "      async function convertToInteractive(key) {\n",
              "        const element = document.querySelector('#df-2f14edce-d191-4228-90f3-462ddef99c78');\n",
              "        const dataTable =\n",
              "          await google.colab.kernel.invokeFunction('convertToInteractive',\n",
              "                                                    [key], {});\n",
              "        if (!dataTable) return;\n",
              "\n",
              "        const docLinkHtml = 'Like what you see? Visit the ' +\n",
              "          '<a target=\"_blank\" href=https://colab.research.google.com/notebooks/data_table.ipynb>data table notebook</a>'\n",
              "          + ' to learn more about interactive tables.';\n",
              "        element.innerHTML = '';\n",
              "        dataTable['output_type'] = 'display_data';\n",
              "        await google.colab.output.renderOutput(dataTable, element);\n",
              "        const docLink = document.createElement('div');\n",
              "        docLink.innerHTML = docLinkHtml;\n",
              "        element.appendChild(docLink);\n",
              "      }\n",
              "    </script>\n",
              "  </div>\n",
              "\n",
              "\n",
              "<div id=\"df-2b575228-0b3c-4ae7-a9ee-e31e229f8dcf\">\n",
              "  <button class=\"colab-df-quickchart\" onclick=\"quickchart('df-2b575228-0b3c-4ae7-a9ee-e31e229f8dcf')\"\n",
              "            title=\"Suggest charts\"\n",
              "            style=\"display:none;\">\n",
              "\n",
              "<svg xmlns=\"http://www.w3.org/2000/svg\" height=\"24px\"viewBox=\"0 0 24 24\"\n",
              "     width=\"24px\">\n",
              "    <g>\n",
              "        <path d=\"M19 3H5c-1.1 0-2 .9-2 2v14c0 1.1.9 2 2 2h14c1.1 0 2-.9 2-2V5c0-1.1-.9-2-2-2zM9 17H7v-7h2v7zm4 0h-2V7h2v10zm4 0h-2v-4h2v4z\"/>\n",
              "    </g>\n",
              "</svg>\n",
              "  </button>\n",
              "\n",
              "<style>\n",
              "  .colab-df-quickchart {\n",
              "      --bg-color: #E8F0FE;\n",
              "      --fill-color: #1967D2;\n",
              "      --hover-bg-color: #E2EBFA;\n",
              "      --hover-fill-color: #174EA6;\n",
              "      --disabled-fill-color: #AAA;\n",
              "      --disabled-bg-color: #DDD;\n",
              "  }\n",
              "\n",
              "  [theme=dark] .colab-df-quickchart {\n",
              "      --bg-color: #3B4455;\n",
              "      --fill-color: #D2E3FC;\n",
              "      --hover-bg-color: #434B5C;\n",
              "      --hover-fill-color: #FFFFFF;\n",
              "      --disabled-bg-color: #3B4455;\n",
              "      --disabled-fill-color: #666;\n",
              "  }\n",
              "\n",
              "  .colab-df-quickchart {\n",
              "    background-color: var(--bg-color);\n",
              "    border: none;\n",
              "    border-radius: 50%;\n",
              "    cursor: pointer;\n",
              "    display: none;\n",
              "    fill: var(--fill-color);\n",
              "    height: 32px;\n",
              "    padding: 0;\n",
              "    width: 32px;\n",
              "  }\n",
              "\n",
              "  .colab-df-quickchart:hover {\n",
              "    background-color: var(--hover-bg-color);\n",
              "    box-shadow: 0 1px 2px rgba(60, 64, 67, 0.3), 0 1px 3px 1px rgba(60, 64, 67, 0.15);\n",
              "    fill: var(--button-hover-fill-color);\n",
              "  }\n",
              "\n",
              "  .colab-df-quickchart-complete:disabled,\n",
              "  .colab-df-quickchart-complete:disabled:hover {\n",
              "    background-color: var(--disabled-bg-color);\n",
              "    fill: var(--disabled-fill-color);\n",
              "    box-shadow: none;\n",
              "  }\n",
              "\n",
              "  .colab-df-spinner {\n",
              "    border: 2px solid var(--fill-color);\n",
              "    border-color: transparent;\n",
              "    border-bottom-color: var(--fill-color);\n",
              "    animation:\n",
              "      spin 1s steps(1) infinite;\n",
              "  }\n",
              "\n",
              "  @keyframes spin {\n",
              "    0% {\n",
              "      border-color: transparent;\n",
              "      border-bottom-color: var(--fill-color);\n",
              "      border-left-color: var(--fill-color);\n",
              "    }\n",
              "    20% {\n",
              "      border-color: transparent;\n",
              "      border-left-color: var(--fill-color);\n",
              "      border-top-color: var(--fill-color);\n",
              "    }\n",
              "    30% {\n",
              "      border-color: transparent;\n",
              "      border-left-color: var(--fill-color);\n",
              "      border-top-color: var(--fill-color);\n",
              "      border-right-color: var(--fill-color);\n",
              "    }\n",
              "    40% {\n",
              "      border-color: transparent;\n",
              "      border-right-color: var(--fill-color);\n",
              "      border-top-color: var(--fill-color);\n",
              "    }\n",
              "    60% {\n",
              "      border-color: transparent;\n",
              "      border-right-color: var(--fill-color);\n",
              "    }\n",
              "    80% {\n",
              "      border-color: transparent;\n",
              "      border-right-color: var(--fill-color);\n",
              "      border-bottom-color: var(--fill-color);\n",
              "    }\n",
              "    90% {\n",
              "      border-color: transparent;\n",
              "      border-bottom-color: var(--fill-color);\n",
              "    }\n",
              "  }\n",
              "</style>\n",
              "\n",
              "  <script>\n",
              "    async function quickchart(key) {\n",
              "      const quickchartButtonEl =\n",
              "        document.querySelector('#' + key + ' button');\n",
              "      quickchartButtonEl.disabled = true;  // To prevent multiple clicks.\n",
              "      quickchartButtonEl.classList.add('colab-df-spinner');\n",
              "      try {\n",
              "        const charts = await google.colab.kernel.invokeFunction(\n",
              "            'suggestCharts', [key], {});\n",
              "      } catch (error) {\n",
              "        console.error('Error during call to suggestCharts:', error);\n",
              "      }\n",
              "      quickchartButtonEl.classList.remove('colab-df-spinner');\n",
              "      quickchartButtonEl.classList.add('colab-df-quickchart-complete');\n",
              "    }\n",
              "    (() => {\n",
              "      let quickchartButtonEl =\n",
              "        document.querySelector('#df-2b575228-0b3c-4ae7-a9ee-e31e229f8dcf button');\n",
              "      quickchartButtonEl.style.display =\n",
              "        google.colab.kernel.accessAllowed ? 'block' : 'none';\n",
              "    })();\n",
              "  </script>\n",
              "</div>\n",
              "\n",
              "    </div>\n",
              "  </div>\n"
            ],
            "application/vnd.google.colaboratory.intrinsic+json": {
              "type": "dataframe",
              "variable_name": "df"
            }
          },
          "metadata": {},
          "execution_count": 17
        }
      ]
    },
    {
      "cell_type": "markdown",
      "source": [
        "## 3. Exploratory Data Analysis"
      ],
      "metadata": {
        "id": "8Hq7pKKQTD0Z"
      }
    },
    {
      "cell_type": "markdown",
      "source": [
        "EDA steps was completed by Tablaeu. Show all findings at [link](https://public.tableau.com/app/profile/lam.nguyen6169/viz/CSCI-636-Viz/Dashboard1)"
      ],
      "metadata": {
        "id": "hRFeKN-DsHOK"
      }
    },
    {
      "cell_type": "code",
      "source": [],
      "metadata": {
        "id": "RFJb3Bww26Tb"
      },
      "execution_count": null,
      "outputs": []
    },
    {
      "cell_type": "markdown",
      "source": [
        "## 4. Prediction Ridership"
      ],
      "metadata": {
        "id": "lHY0jYH_Zpml"
      }
    },
    {
      "cell_type": "markdown",
      "source": [
        "If we can create a model to predict ridership at any given time, this would be an incredibly useful tool for the MTA to use. This would allow them to better plan for maintenance, staffing, and other resources. This data set is limited to only a few factors that could affect ridership, but it is a good starting point and will indicate if it is possible to create a model to predict ridership.\n",
        "\n",
        "I chose to use Random Forest Regression for this task because we needed to choose a model that can handle non-linear data and it is not prone to overfitting."
      ],
      "metadata": {
        "id": "_j6KIZimsre1"
      }
    },
    {
      "cell_type": "code",
      "source": [
        "# make a new dataframe called rfr_df\n",
        "model_df = pd.DataFrame()"
      ],
      "metadata": {
        "id": "3Y66V0AGsswO"
      },
      "execution_count": null,
      "outputs": []
    },
    {
      "cell_type": "code",
      "source": [
        "model_df['month'] = df['transit_timestamp'].dt.month\n",
        "model_df['day'] = df['transit_timestamp'].dt.day\n",
        "model_df['hour'] = df['transit_timestamp'].dt.hour\n",
        "model_df['ridership'] = df['ridership']\n",
        "\n",
        "model_df = model_df.groupby(['month', 'day', 'hour'])['ridership'].sum().reset_index()\n",
        "\n",
        "model_df.head()"
      ],
      "metadata": {
        "colab": {
          "base_uri": "https://localhost:8080/",
          "height": 206
        },
        "id": "D0fmBH5rsv7J",
        "outputId": "dabdc698-6574-4217-f3cb-baeb430c1c33"
      },
      "execution_count": null,
      "outputs": [
        {
          "output_type": "execute_result",
          "data": {
            "text/plain": [
              "   month  day  hour  ridership\n",
              "0      1    1     0     154886\n",
              "1      1    1     1     143323\n",
              "2      1    1     2      85488\n",
              "3      1    1     3      44117\n",
              "4      1    1     4      28826"
            ],
            "text/html": [
              "\n",
              "  <div id=\"df-b840ea96-0916-4495-942c-47619e2bafc0\" class=\"colab-df-container\">\n",
              "    <div>\n",
              "<style scoped>\n",
              "    .dataframe tbody tr th:only-of-type {\n",
              "        vertical-align: middle;\n",
              "    }\n",
              "\n",
              "    .dataframe tbody tr th {\n",
              "        vertical-align: top;\n",
              "    }\n",
              "\n",
              "    .dataframe thead th {\n",
              "        text-align: right;\n",
              "    }\n",
              "</style>\n",
              "<table border=\"1\" class=\"dataframe\">\n",
              "  <thead>\n",
              "    <tr style=\"text-align: right;\">\n",
              "      <th></th>\n",
              "      <th>month</th>\n",
              "      <th>day</th>\n",
              "      <th>hour</th>\n",
              "      <th>ridership</th>\n",
              "    </tr>\n",
              "  </thead>\n",
              "  <tbody>\n",
              "    <tr>\n",
              "      <th>0</th>\n",
              "      <td>1</td>\n",
              "      <td>1</td>\n",
              "      <td>0</td>\n",
              "      <td>154886</td>\n",
              "    </tr>\n",
              "    <tr>\n",
              "      <th>1</th>\n",
              "      <td>1</td>\n",
              "      <td>1</td>\n",
              "      <td>1</td>\n",
              "      <td>143323</td>\n",
              "    </tr>\n",
              "    <tr>\n",
              "      <th>2</th>\n",
              "      <td>1</td>\n",
              "      <td>1</td>\n",
              "      <td>2</td>\n",
              "      <td>85488</td>\n",
              "    </tr>\n",
              "    <tr>\n",
              "      <th>3</th>\n",
              "      <td>1</td>\n",
              "      <td>1</td>\n",
              "      <td>3</td>\n",
              "      <td>44117</td>\n",
              "    </tr>\n",
              "    <tr>\n",
              "      <th>4</th>\n",
              "      <td>1</td>\n",
              "      <td>1</td>\n",
              "      <td>4</td>\n",
              "      <td>28826</td>\n",
              "    </tr>\n",
              "  </tbody>\n",
              "</table>\n",
              "</div>\n",
              "    <div class=\"colab-df-buttons\">\n",
              "\n",
              "  <div class=\"colab-df-container\">\n",
              "    <button class=\"colab-df-convert\" onclick=\"convertToInteractive('df-b840ea96-0916-4495-942c-47619e2bafc0')\"\n",
              "            title=\"Convert this dataframe to an interactive table.\"\n",
              "            style=\"display:none;\">\n",
              "\n",
              "  <svg xmlns=\"http://www.w3.org/2000/svg\" height=\"24px\" viewBox=\"0 -960 960 960\">\n",
              "    <path d=\"M120-120v-720h720v720H120Zm60-500h600v-160H180v160Zm220 220h160v-160H400v160Zm0 220h160v-160H400v160ZM180-400h160v-160H180v160Zm440 0h160v-160H620v160ZM180-180h160v-160H180v160Zm440 0h160v-160H620v160Z\"/>\n",
              "  </svg>\n",
              "    </button>\n",
              "\n",
              "  <style>\n",
              "    .colab-df-container {\n",
              "      display:flex;\n",
              "      gap: 12px;\n",
              "    }\n",
              "\n",
              "    .colab-df-convert {\n",
              "      background-color: #E8F0FE;\n",
              "      border: none;\n",
              "      border-radius: 50%;\n",
              "      cursor: pointer;\n",
              "      display: none;\n",
              "      fill: #1967D2;\n",
              "      height: 32px;\n",
              "      padding: 0 0 0 0;\n",
              "      width: 32px;\n",
              "    }\n",
              "\n",
              "    .colab-df-convert:hover {\n",
              "      background-color: #E2EBFA;\n",
              "      box-shadow: 0px 1px 2px rgba(60, 64, 67, 0.3), 0px 1px 3px 1px rgba(60, 64, 67, 0.15);\n",
              "      fill: #174EA6;\n",
              "    }\n",
              "\n",
              "    .colab-df-buttons div {\n",
              "      margin-bottom: 4px;\n",
              "    }\n",
              "\n",
              "    [theme=dark] .colab-df-convert {\n",
              "      background-color: #3B4455;\n",
              "      fill: #D2E3FC;\n",
              "    }\n",
              "\n",
              "    [theme=dark] .colab-df-convert:hover {\n",
              "      background-color: #434B5C;\n",
              "      box-shadow: 0px 1px 3px 1px rgba(0, 0, 0, 0.15);\n",
              "      filter: drop-shadow(0px 1px 2px rgba(0, 0, 0, 0.3));\n",
              "      fill: #FFFFFF;\n",
              "    }\n",
              "  </style>\n",
              "\n",
              "    <script>\n",
              "      const buttonEl =\n",
              "        document.querySelector('#df-b840ea96-0916-4495-942c-47619e2bafc0 button.colab-df-convert');\n",
              "      buttonEl.style.display =\n",
              "        google.colab.kernel.accessAllowed ? 'block' : 'none';\n",
              "\n",
              "      async function convertToInteractive(key) {\n",
              "        const element = document.querySelector('#df-b840ea96-0916-4495-942c-47619e2bafc0');\n",
              "        const dataTable =\n",
              "          await google.colab.kernel.invokeFunction('convertToInteractive',\n",
              "                                                    [key], {});\n",
              "        if (!dataTable) return;\n",
              "\n",
              "        const docLinkHtml = 'Like what you see? Visit the ' +\n",
              "          '<a target=\"_blank\" href=https://colab.research.google.com/notebooks/data_table.ipynb>data table notebook</a>'\n",
              "          + ' to learn more about interactive tables.';\n",
              "        element.innerHTML = '';\n",
              "        dataTable['output_type'] = 'display_data';\n",
              "        await google.colab.output.renderOutput(dataTable, element);\n",
              "        const docLink = document.createElement('div');\n",
              "        docLink.innerHTML = docLinkHtml;\n",
              "        element.appendChild(docLink);\n",
              "      }\n",
              "    </script>\n",
              "  </div>\n",
              "\n",
              "\n",
              "<div id=\"df-a365eed7-03f5-415d-a0b5-8707ba02bb28\">\n",
              "  <button class=\"colab-df-quickchart\" onclick=\"quickchart('df-a365eed7-03f5-415d-a0b5-8707ba02bb28')\"\n",
              "            title=\"Suggest charts\"\n",
              "            style=\"display:none;\">\n",
              "\n",
              "<svg xmlns=\"http://www.w3.org/2000/svg\" height=\"24px\"viewBox=\"0 0 24 24\"\n",
              "     width=\"24px\">\n",
              "    <g>\n",
              "        <path d=\"M19 3H5c-1.1 0-2 .9-2 2v14c0 1.1.9 2 2 2h14c1.1 0 2-.9 2-2V5c0-1.1-.9-2-2-2zM9 17H7v-7h2v7zm4 0h-2V7h2v10zm4 0h-2v-4h2v4z\"/>\n",
              "    </g>\n",
              "</svg>\n",
              "  </button>\n",
              "\n",
              "<style>\n",
              "  .colab-df-quickchart {\n",
              "      --bg-color: #E8F0FE;\n",
              "      --fill-color: #1967D2;\n",
              "      --hover-bg-color: #E2EBFA;\n",
              "      --hover-fill-color: #174EA6;\n",
              "      --disabled-fill-color: #AAA;\n",
              "      --disabled-bg-color: #DDD;\n",
              "  }\n",
              "\n",
              "  [theme=dark] .colab-df-quickchart {\n",
              "      --bg-color: #3B4455;\n",
              "      --fill-color: #D2E3FC;\n",
              "      --hover-bg-color: #434B5C;\n",
              "      --hover-fill-color: #FFFFFF;\n",
              "      --disabled-bg-color: #3B4455;\n",
              "      --disabled-fill-color: #666;\n",
              "  }\n",
              "\n",
              "  .colab-df-quickchart {\n",
              "    background-color: var(--bg-color);\n",
              "    border: none;\n",
              "    border-radius: 50%;\n",
              "    cursor: pointer;\n",
              "    display: none;\n",
              "    fill: var(--fill-color);\n",
              "    height: 32px;\n",
              "    padding: 0;\n",
              "    width: 32px;\n",
              "  }\n",
              "\n",
              "  .colab-df-quickchart:hover {\n",
              "    background-color: var(--hover-bg-color);\n",
              "    box-shadow: 0 1px 2px rgba(60, 64, 67, 0.3), 0 1px 3px 1px rgba(60, 64, 67, 0.15);\n",
              "    fill: var(--button-hover-fill-color);\n",
              "  }\n",
              "\n",
              "  .colab-df-quickchart-complete:disabled,\n",
              "  .colab-df-quickchart-complete:disabled:hover {\n",
              "    background-color: var(--disabled-bg-color);\n",
              "    fill: var(--disabled-fill-color);\n",
              "    box-shadow: none;\n",
              "  }\n",
              "\n",
              "  .colab-df-spinner {\n",
              "    border: 2px solid var(--fill-color);\n",
              "    border-color: transparent;\n",
              "    border-bottom-color: var(--fill-color);\n",
              "    animation:\n",
              "      spin 1s steps(1) infinite;\n",
              "  }\n",
              "\n",
              "  @keyframes spin {\n",
              "    0% {\n",
              "      border-color: transparent;\n",
              "      border-bottom-color: var(--fill-color);\n",
              "      border-left-color: var(--fill-color);\n",
              "    }\n",
              "    20% {\n",
              "      border-color: transparent;\n",
              "      border-left-color: var(--fill-color);\n",
              "      border-top-color: var(--fill-color);\n",
              "    }\n",
              "    30% {\n",
              "      border-color: transparent;\n",
              "      border-left-color: var(--fill-color);\n",
              "      border-top-color: var(--fill-color);\n",
              "      border-right-color: var(--fill-color);\n",
              "    }\n",
              "    40% {\n",
              "      border-color: transparent;\n",
              "      border-right-color: var(--fill-color);\n",
              "      border-top-color: var(--fill-color);\n",
              "    }\n",
              "    60% {\n",
              "      border-color: transparent;\n",
              "      border-right-color: var(--fill-color);\n",
              "    }\n",
              "    80% {\n",
              "      border-color: transparent;\n",
              "      border-right-color: var(--fill-color);\n",
              "      border-bottom-color: var(--fill-color);\n",
              "    }\n",
              "    90% {\n",
              "      border-color: transparent;\n",
              "      border-bottom-color: var(--fill-color);\n",
              "    }\n",
              "  }\n",
              "</style>\n",
              "\n",
              "  <script>\n",
              "    async function quickchart(key) {\n",
              "      const quickchartButtonEl =\n",
              "        document.querySelector('#' + key + ' button');\n",
              "      quickchartButtonEl.disabled = true;  // To prevent multiple clicks.\n",
              "      quickchartButtonEl.classList.add('colab-df-spinner');\n",
              "      try {\n",
              "        const charts = await google.colab.kernel.invokeFunction(\n",
              "            'suggestCharts', [key], {});\n",
              "      } catch (error) {\n",
              "        console.error('Error during call to suggestCharts:', error);\n",
              "      }\n",
              "      quickchartButtonEl.classList.remove('colab-df-spinner');\n",
              "      quickchartButtonEl.classList.add('colab-df-quickchart-complete');\n",
              "    }\n",
              "    (() => {\n",
              "      let quickchartButtonEl =\n",
              "        document.querySelector('#df-a365eed7-03f5-415d-a0b5-8707ba02bb28 button');\n",
              "      quickchartButtonEl.style.display =\n",
              "        google.colab.kernel.accessAllowed ? 'block' : 'none';\n",
              "    })();\n",
              "  </script>\n",
              "</div>\n",
              "\n",
              "    </div>\n",
              "  </div>\n"
            ],
            "application/vnd.google.colaboratory.intrinsic+json": {
              "type": "dataframe",
              "variable_name": "model_df",
              "summary": "{\n  \"name\": \"model_df\",\n  \"rows\": 8784,\n  \"fields\": [\n    {\n      \"column\": \"month\",\n      \"properties\": {\n        \"dtype\": \"int32\",\n        \"num_unique_values\": 12,\n        \"samples\": [\n          11,\n          10,\n          1\n        ],\n        \"semantic_type\": \"\",\n        \"description\": \"\"\n      }\n    },\n    {\n      \"column\": \"day\",\n      \"properties\": {\n        \"dtype\": \"int32\",\n        \"num_unique_values\": 31,\n        \"samples\": [\n          28,\n          16,\n          24\n        ],\n        \"semantic_type\": \"\",\n        \"description\": \"\"\n      }\n    },\n    {\n      \"column\": \"hour\",\n      \"properties\": {\n        \"dtype\": \"int32\",\n        \"num_unique_values\": 24,\n        \"samples\": [\n          8,\n          16,\n          0\n        ],\n        \"semantic_type\": \"\",\n        \"description\": \"\"\n      }\n    },\n    {\n      \"column\": \"ridership\",\n      \"properties\": {\n        \"dtype\": \"number\",\n        \"std\": 194437,\n        \"min\": 4377,\n        \"max\": 1126958,\n        \"num_unique_values\": 8698,\n        \"samples\": [\n          35834,\n          385094,\n          53671\n        ],\n        \"semantic_type\": \"\",\n        \"description\": \"\"\n      }\n    }\n  ]\n}"
            }
          },
          "metadata": {},
          "execution_count": 19
        }
      ]
    },
    {
      "cell_type": "markdown",
      "source": [
        "### Splitting data for training and testing"
      ],
      "metadata": {
        "id": "KhIrhOR9vf5L"
      }
    },
    {
      "cell_type": "code",
      "source": [
        "X = model_df[['month', 'day', 'hour']]\n",
        "y = model_df['ridership']\n",
        "\n",
        "# Split the data into 80% training and 20% testing\n",
        "X_train, X_test, y_train, y_test = train_test_split(X, y, test_size=0.2, random_state=42)"
      ],
      "metadata": {
        "id": "po5vRAH_s6y3"
      },
      "execution_count": null,
      "outputs": []
    },
    {
      "cell_type": "code",
      "source": [
        "# Split the data into features and labels\n",
        "labels = np.array(model_df['ridership'])\n",
        "features = model_df.drop('ridership', axis=1)\n",
        "feature_list = list(features.columns)\n",
        "features = np.array(features)\n",
        "\n",
        "# Split the data into training and testing sets\n",
        "train_features, test_features, train_labels, test_labels = train_test_split(\n",
        "    features, labels, test_size=0.25, random_state=38\n",
        ")"
      ],
      "metadata": {
        "id": "DCeuw17fs_ez"
      },
      "execution_count": null,
      "outputs": []
    },
    {
      "cell_type": "markdown",
      "source": [
        "### Random Forest Regressor"
      ],
      "metadata": {
        "id": "ntlSpbE7vToT"
      }
    },
    {
      "cell_type": "code",
      "source": [
        "# Instantiate model with decision trees\n",
        "rf = RandomForestRegressor(n_estimators=400, random_state=38)\n",
        "\n",
        "# Train the model on training data\n",
        "rf.fit(train_features, train_labels)\n",
        "\n",
        "# Make predictions on the test set\n",
        "predictions = rf.predict(test_features)\n",
        "\n",
        "# Calculate the absolute errors\n",
        "errors = abs(predictions - test_labels)\n",
        "\n",
        "# Print out the mean absolute error (MAE)\n",
        "mae = mean_absolute_error(test_labels, predictions)\n",
        "print('Mean Absolute Error:', round(mae, 2), 'riders.')\n",
        "\n",
        "# Calculate the R-squared (R2)\n",
        "r2 = r2_score(test_labels, predictions)\n",
        "print('R-squared (R2):', round(r2, 2))\n",
        "\n",
        "# Calculate and display Mean Absolute Percentage Error (MAPE) and Accuracy\n",
        "mape = 100 * (errors / test_labels)\n",
        "accuracy = 100 - np.mean(mape)\n",
        "print('Accuracy:', round(accuracy, 2), '%.')\n",
        "\n",
        "# Create a scatter plot to visualize the predictions vs. actual values\n",
        "plt.figure(figsize=(10, 6))\n",
        "plt.scatter(test_labels, predictions, alpha=0.7)\n",
        "plt.plot([min(test_labels), max(test_labels)], [min(test_labels), max(test_labels)], 'r--')\n",
        "\n",
        "plt.xlabel('Actual Ridership')\n",
        "plt.ylabel('Predicted Ridership')\n",
        "plt.title('Random Forest Regressor: Actual vs. Predicted Ridership')\n",
        "plt.show()"
      ],
      "metadata": {
        "colab": {
          "base_uri": "https://localhost:8080/",
          "height": 616
        },
        "id": "mZizb2TCvB_w",
        "outputId": "432c365e-454f-4626-b3e1-7f9b16366c24"
      },
      "execution_count": null,
      "outputs": [
        {
          "output_type": "stream",
          "name": "stdout",
          "text": [
            "Mean Absolute Error: 51127.85 riders.\n",
            "R-squared (R2): 0.8\n",
            "Accuracy: 74.46 %.\n"
          ]
        },
        {
          "output_type": "display_data",
          "data": {
            "text/plain": [
              "<Figure size 1000x600 with 1 Axes>"
            ],
            "image/png": "[encoded data removed]"
          },
          "metadata": {}
        }
      ]
    },
    {
      "cell_type": "markdown",
      "source": [
        "Based on the results obtained from the random forest regressor model, it's evident that the model performs moderately well. The Mean Absolute Error (MAE) of 51127.85 riders indicates that, on average, the model's predictions deviate from the actual values by this amount. While the MAE is relatively high, suggesting some level of inconsistency in prediction accuracy, it's crucial to consider the context of the problem domain.\n",
        "\n",
        "The R-squared (R2) value of 0.8 implies that approximately 80% of the variance in the target variable is explained by the model, indicating a reasonably good fit to the data. However, there may still be room for improvement in capturing more of the variance.\n",
        "\n",
        "The accuracy metric of 74.46% suggests that the model is able to predict the target variable correctly about three-quarters of the time. This is a decent level of accuracy, although it may not be sufficient depending on the specific requirements of the application.\n",
        "\n",
        "In conclusion, while the random forest regressor model demonstrates respectable performance, there is potential for enhancement, particularly in reducing the Mean Absolute Error and possibly improving accuracy further. Fine-tuning the model hyperparameters or exploring different algorithms could be avenues for improving predictive performance."
      ],
      "metadata": {
        "id": "iyBcyozivsLg"
      }
    },
    {
      "cell_type": "markdown",
      "source": [
        "What are the most important features in our model?"
      ],
      "metadata": {
        "id": "i9P9-o12uZjx"
      }
    },
    {
      "cell_type": "code",
      "source": [
        "# Train the model on training data\n",
        "rf.fit(train_features, train_labels)\n",
        "\n",
        "# Get feature importances\n",
        "feature_importances = rf.feature_importances_\n",
        "\n",
        "# Associate feature importances with feature names\n",
        "feature_importance_list = list(zip(feature_list, feature_importances))\n",
        "\n",
        "# Print the top N most important features and their importances\n",
        "for feature, importance in feature_importance_list:\n",
        "    print(f\"{feature}: {importance}\")\n",
        "\n",
        "# Create a bar plot to visualize feature importances\n",
        "plt.figure(figsize=(10, 6))\n",
        "plt.bar(range(len(feature_importances)), feature_importances)\n",
        "plt.xticks(range(len(feature_importances)), [feature[0] for feature in feature_importance_list], rotation='vertical')\n",
        "plt.xlabel('Features')\n",
        "plt.ylabel('Importance')\n",
        "plt.title('Feature Importances')\n",
        "plt.show()\n"
      ],
      "metadata": {
        "colab": {
          "base_uri": "https://localhost:8080/",
          "height": 647
        },
        "id": "zjfw4P0Bubs1",
        "outputId": "81cb508d-32c7-4caa-a9c0-adb473d8a08a"
      },
      "execution_count": null,
      "outputs": [
        {
          "output_type": "stream",
          "name": "stdout",
          "text": [
            "month: 0.09260255137229755\n",
            "day: 0.12420005391153656\n",
            "hour: 0.7831973947161659\n"
          ]
        },
        {
          "output_type": "display_data",
          "data": {
            "text/plain": [
              "<Figure size 1000x600 with 1 Axes>"
            ],
            "image/png": "[encoded data removed]"
          },
          "metadata": {}
        }
      ]
    },
    {
      "cell_type": "markdown",
      "source": [
        "**The hour of day is a major indicator on the amount of ridership**"
      ],
      "metadata": {
        "id": "ZNueTApCtL6F"
      }
    },
    {
      "cell_type": "markdown",
      "source": [
        "Function for predicting ridership"
      ],
      "metadata": {
        "id": "gh8FEa4BumVt"
      }
    },
    {
      "cell_type": "code",
      "source": [
        "def predict_and_show_ridership(month, day, hour):\n",
        "    input_data = np.array([[month, day, hour]])\n",
        "    predicted_ridership = rf.predict(input_data)\n",
        "    actual_ridership = model_df[(model_df['month'] == month) & (model_df['day'] == day) & (model_df['hour'] == hour)]['ridership'].values[0]\n",
        "\n",
        "    print(f\"Input: Month={month}, Day={day}, Hour={hour}\")\n",
        "    print(f\"Predicted Ridership: {round(predicted_ridership[0], 2)}\")\n",
        "    print(f\"Actual Ridership: {actual_ridership}\")"
      ],
      "metadata": {
        "id": "c7Ipve30ukD9"
      },
      "execution_count": null,
      "outputs": []
    },
    {
      "cell_type": "code",
      "source": [
        "# Test the function with a specific input\n",
        "predict_and_show_ridership(month=5, day=5, hour=12)"
      ],
      "metadata": {
        "colab": {
          "base_uri": "https://localhost:8080/"
        },
        "id": "inBH98j9uqdc",
        "outputId": "ab9e5b74-324c-4c80-f6c8-cc3dc43cf889"
      },
      "execution_count": null,
      "outputs": [
        {
          "output_type": "stream",
          "name": "stdout",
          "text": [
            "Input: Month=5, Day=5, Hour=12\n",
            "Predicted Ridership: 292739.44\n",
            "Actual Ridership: 299949\n"
          ]
        }
      ]
    },
    {
      "cell_type": "code",
      "source": [
        "predict_and_show_ridership(month=3, day=27, hour=2)"
      ],
      "metadata": {
        "colab": {
          "base_uri": "https://localhost:8080/"
        },
        "id": "aMwvf9HuuxVi",
        "outputId": "d4bdaff9-f662-4a30-8703-c27d1252444a"
      },
      "execution_count": null,
      "outputs": [
        {
          "output_type": "stream",
          "name": "stdout",
          "text": [
            "Input: Month=3, Day=27, Hour=2\n",
            "Predicted Ridership: 16202.57\n",
            "Actual Ridership: 15305\n"
          ]
        }
      ]
    },
    {
      "cell_type": "markdown",
      "source": [
        "### Gradient Boosting Regressor"
      ],
      "metadata": {
        "id": "c_HCBnZpxHUo"
      }
    },
    {
      "cell_type": "code",
      "source": [
        "from sklearn.ensemble import GradientBoostingRegressor\n",
        "from sklearn.metrics import mean_absolute_error, r2_score"
      ],
      "metadata": {
        "id": "BIm37pHdxCrM"
      },
      "execution_count": null,
      "outputs": []
    },
    {
      "cell_type": "code",
      "source": [
        "# Instantiate Gradient Boosting Regressor model\n",
        "gb_regressor = GradientBoostingRegressor(random_state=42)\n",
        "\n",
        "# Train the model on training data\n",
        "gb_regressor.fit(train_features, train_labels)\n",
        "\n",
        "# Make predictions on the test set\n",
        "predictions = gb_regressor.predict(test_features)\n",
        "\n",
        "# Calculate the absolute errors\n",
        "errors = abs(predictions - test_labels)\n",
        "\n",
        "# Print out the mean absolute error (MAE)\n",
        "mae = mean_absolute_error(test_labels, predictions)\n",
        "print('Mean Absolute Error:', round(mae, 2), 'riders.')\n",
        "\n",
        "# Calculate the R-squared (R2)\n",
        "r2 = r2_score(test_labels, predictions)\n",
        "print('R-squared (R2):', round(r2, 2))\n",
        "\n",
        "# Calculate and display Mean Absolute Percentage Error (MAPE) and Accuracy\n",
        "mape = 100 * (errors / test_labels)\n",
        "accuracy = 100 - np.mean(mape)\n",
        "print('Accuracy:', round(accuracy, 2), '%.')\n",
        "\n",
        "# Create a scatter plot to visualize the predictions vs. actual values\n",
        "plt.figure(figsize=(10, 6))\n",
        "plt.scatter(test_labels, predictions, alpha=0.7)\n",
        "plt.plot([min(test_labels), max(test_labels)], [min(test_labels), max(test_labels)], 'r--')\n",
        "\n",
        "plt.xlabel('Actual Ridership')\n",
        "plt.ylabel('Predicted Ridership')\n",
        "plt.title('Gradient Boosting Regressor: Actual vs. Predicted Ridership')\n",
        "plt.show()"
      ],
      "metadata": {
        "colab": {
          "base_uri": "https://localhost:8080/",
          "height": 616
        },
        "id": "aUbzzJ1xxGRI",
        "outputId": "5d392110-01f5-492d-a9fe-8950510b54b9"
      },
      "execution_count": null,
      "outputs": [
        {
          "output_type": "stream",
          "name": "stdout",
          "text": [
            "Mean Absolute Error: 54168.78 riders.\n",
            "R-squared (R2): 0.8\n",
            "Accuracy: 66.69 %.\n"
          ]
        },
        {
          "output_type": "display_data",
          "data": {
            "text/plain": [
              "<Figure size 1000x600 with 1 Axes>"
            ],
            "image/png": "[encoded data removed]"
          },
          "metadata": {}
        }
      ]
    },
    {
      "cell_type": "markdown",
      "source": [
        "Mean Absolute Error (MAE): The MAE of 54168.78 riders represents the average absolute difference between the predicted values and the actual values. In this case, on average, the predictions deviate from the true values by approximately 54168.78 riders. Lower values of MAE indicate better performance, so while this value is not extremely low, it does provide an indication of how close the model's predictions are to the actual values.\n",
        "\n",
        "R-squared (R2): The R-squared value of 0.8 indicates that approximately 80% of the variance in the target variable is explained by the model. This means that the model captures a significant portion of the variability in the data and is able to explain a large proportion of the variance in the ridership. R-squared values range from 0 to 1, where 1 represents a perfect fit. Therefore, an R-squared value of 0.8 suggests a relatively good fit of the model to the data.\n",
        "\n",
        "Accuracy: It's unusual to talk about accuracy in the context of regression problems, as accuracy is typically used in classification tasks. However, if you're using accuracy here as a measure of how often the predictions fall within a certain threshold of the actual values, then the reported accuracy of 66.69% suggests that approximately two-thirds of the predictions are within the acceptable threshold of the true values. This indicates a moderate level of predictive accuracy.\n",
        "\n",
        "In summary, the Gradient Boosting Regressor model demonstrates reasonably good performance, as indicated by the relatively low MAE, high R-squared value, and moderate accuracy. However, there may still be room for improvement in reducing the MAE and potentially increasing the accuracy of predictions further. Fine-tuning hyperparameters or exploring other regression algorithms could be avenues for enhancing predictive performance."
      ],
      "metadata": {
        "id": "WOWmberx1fbm"
      }
    },
    {
      "cell_type": "markdown",
      "source": [
        "## Conclusion"
      ],
      "metadata": {
        "id": "Phi6vwbm12J6"
      }
    },
    {
      "cell_type": "markdown",
      "source": [
        "**This analysis has successfully shown that many of the potential goals of the analysis can be answered using data**\n",
        "\n",
        "**Schedule maintenance and improve crowd management**\n",
        "This analysis shows we can easily determine the trends for which stations, time of day and day of the week have the most riders. This information can be used to schedule maintenance and improve crowd management. We did this through bar charts, strip plots, and treemaps.\n",
        "\n",
        "**Ridership by location**\n",
        "It is also clear that by using geovisualization and exploratory data analysis techniques, we can see which boroguhs and stations have the most riders. The heatmap and dash app are great tools to visualize this data.\n",
        "\n",
        "**Predicting Ridership**\n",
        "We were able to predict ridership with a high degree of accuracy. This shows that there is potential to build a model to predict ridership. I believe that given the right data, this model could be improved and reliably predict how many riders will be at a given station at a given time."
      ],
      "metadata": {
        "id": "jzZSjQte14uO"
      }
    },
    {
      "cell_type": "markdown",
      "source": [],
      "metadata": {
        "id": "soiaMAFt2J7v"
      }
    }
  ]
}